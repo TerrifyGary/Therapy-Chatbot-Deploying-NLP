{
 "cells": [
  {
   "cell_type": "code",
   "execution_count": 1,
   "id": "0f4ed983",
   "metadata": {},
   "outputs": [
    {
     "name": "stderr",
     "output_type": "stream",
     "text": [
      "C:\\Users\\HackerByeBye\\Anaconda3\\envs\\Awesome\\lib\\site-packages\\tqdm\\auto.py:22: TqdmWarning: IProgress not found. Please update jupyter and ipywidgets. See https://ipywidgets.readthedocs.io/en/stable/user_install.html\n",
      "  from .autonotebook import tqdm as notebook_tqdm\n"
     ]
    }
   ],
   "source": [
    "import sys\n",
    "import numpy as np\n",
    "import random as rn\n",
    "import pandas as pd\n",
    "import torch\n",
    "from pytorch_pretrained_bert import BertModel\n",
    "from torch import nn\n",
    "\n",
    "from pytorch_pretrained_bert import BertTokenizer\n",
    "from keras_preprocessing.sequence import pad_sequences\n",
    "from torch.utils.data import TensorDataset, DataLoader, RandomSampler, SequentialSampler\n",
    "from torch.optim import Adam\n",
    "from torch.nn.utils import clip_grad_norm_\n",
    "import torch.nn.functional as F\n",
    "import torch.optim as optim\n",
    "\n",
    "from IPython.display import clear_output\n",
    "from transformers import AutoTokenizer, AutoModelForMaskedLM\n",
    "\n",
    "import sqlite3\n",
    "import jieba\n",
    "import jieba.posseg as pseg\n",
    "\n",
    "from sklearn.metrics import classification_report"
   ]
  },
  {
   "cell_type": "code",
   "execution_count": 2,
   "id": "f5d177a1",
   "metadata": {},
   "outputs": [],
   "source": [
    "rn.seed(321)\n",
    "np.random.seed(321)\n",
    "torch.manual_seed(321)\n",
    "torch.cuda.manual_seed(321)"
   ]
  },
  {
   "cell_type": "code",
   "execution_count": 3,
   "id": "a9f7bc2f",
   "metadata": {},
   "outputs": [
    {
     "data": {
      "text/plain": [
       "WindowsPath('C:/Users/HackerByeBye/Documents/Therapy-Chatbot-Deploying-NLP/Training')"
      ]
     },
     "execution_count": 3,
     "metadata": {},
     "output_type": "execute_result"
    }
   ],
   "source": [
    "import pathlib\n",
    "pathlib.Path().resolve() # CHECK ROUTE"
   ]
  },
  {
   "cell_type": "code",
   "execution_count": 4,
   "id": "fe44722b",
   "metadata": {},
   "outputs": [],
   "source": [
    "train_data = pd.read_csv('../likecount_train.csv')\n",
    "test_data = pd.read_csv('../likecount_test.csv')"
   ]
  },
  {
   "cell_type": "code",
   "execution_count": 5,
   "id": "1559615d",
   "metadata": {},
   "outputs": [
    {
     "data": {
      "text/plain": [
       "(30761, 10252)"
      ]
     },
     "execution_count": 5,
     "metadata": {},
     "output_type": "execute_result"
    }
   ],
   "source": [
    "train_data = train_data.to_dict(orient='records')\n",
    "test_data = test_data.to_dict(orient='records')\n",
    "len(train_data), len(test_data)"
   ]
  },
  {
   "cell_type": "code",
   "execution_count": 6,
   "id": "c2528e4f",
   "metadata": {},
   "outputs": [],
   "source": [
    "train_texts, train_labels = list(zip(*map(lambda d: (d['title'], d['label']), train_data)))\n",
    "test_texts, test_labels = list(zip(*map(lambda d: (d['title'], d['label']), test_data)))\n",
    "\n",
    "two_train_labels, two_test_labels = [], []\n",
    "\n",
    "for x in train_labels:\n",
    "    if x==1 or x==2:\n",
    "        two_train_labels.append(0)\n",
    "    else:\n",
    "        two_train_labels.append(1)\n",
    "\n",
    "        \n",
    "for x in test_labels:\n",
    "    if x==1 or x==2:\n",
    "        two_test_labels.append(0)\n",
    "    else:\n",
    "        two_test_labels.append(1)\n"
   ]
  },
  {
   "cell_type": "code",
   "execution_count": 7,
   "id": "a5f7b246",
   "metadata": {},
   "outputs": [],
   "source": [
    "def jiebaSlice(content,mode):\n",
    "    stopword_set = []\n",
    "    content = str(content)\n",
    "#     with open('../Analyzing/stopword.txt','r', encoding='utf-8') as stopwords:\n",
    "#         for stopword in stopwords:\n",
    "#             stopword_set.append(stopword.strip('\\n'))\n",
    "    \n",
    "    content = content.strip('\\n')\n",
    "    if mode == \"POSSEG\":\n",
    "        words = pseg.cut(content,use_paddle=True)\n",
    "        slicedWords = []\n",
    "        for word, flag in words:\n",
    "#             if word not in stopword_set:\n",
    "            slicedWords.append(word)\n",
    "        return slicedWords\n",
    "    elif mode == \"CUT_HMM\":\n",
    "        seg_list = jieba.cut(content,HMM=True,cut_all=True)\n",
    "        slicedWords = list(seg_list)\n",
    "        return slicedWords\n",
    "    elif mode == \"CUT_FOR_SEARCH\":\n",
    "        seg_list = jieba.cut_for_search(content,HMM=True)\n",
    "        slicedWords = list(seg_list)\n",
    "        return slicedWords\n",
    "    elif mode == \"NORMAL\":\n",
    "        seg_list = jieba.cut_for_search(content)\n",
    "        slicedWords = list(seg_list)\n",
    "        return slicedWords  "
   ]
  },
  {
   "cell_type": "code",
   "execution_count": 8,
   "id": "420e30d5",
   "metadata": {},
   "outputs": [
    {
     "name": "stderr",
     "output_type": "stream",
     "text": [
      "Building prefix dict from the default dictionary ...\n",
      "Loading model from cache C:\\Users\\HACKER~1\\AppData\\Local\\Temp\\jieba.cache\n",
      "Loading model cost 0.516 seconds.\n",
      "Prefix dict has been built successfully.\n"
     ]
    }
   ],
   "source": [
    "train_tokens = list(map(lambda t: ['[CLS]'] + jiebaSlice(t,'CUT_HMM') + ['[SEP]'], train_texts))\n",
    "test_tokens = list(map(lambda t: ['[CLS]'] + jiebaSlice(t,'CUT_HMM') + ['[SEP]'], test_texts))\n",
    "\n",
    "tokenizer = AutoTokenizer.from_pretrained('bert-base-chinese', do_lower_case=True)\n",
    "\n",
    "train_tokens_ids = pad_sequences(list(map(tokenizer.convert_tokens_to_ids, train_tokens)), maxlen=512, truncating=\"post\", padding=\"post\", dtype=\"int\")\n",
    "test_tokens_ids = pad_sequences(list(map(tokenizer.convert_tokens_to_ids, test_tokens)), maxlen=512, truncating=\"post\", padding=\"post\", dtype=\"int\")"
   ]
  },
  {
   "cell_type": "code",
   "execution_count": 9,
   "id": "830fcdcb",
   "metadata": {},
   "outputs": [
    {
     "data": {
      "text/plain": [
       "((30761,), (10252,))"
      ]
     },
     "execution_count": 9,
     "metadata": {},
     "output_type": "execute_result"
    }
   ],
   "source": [
    "train_y = np.array(two_train_labels)\n",
    "test_y = np.array(two_test_labels) \n",
    "train_y.shape, test_y.shape"
   ]
  },
  {
   "cell_type": "code",
   "execution_count": 10,
   "id": "0b5c36fd",
   "metadata": {},
   "outputs": [],
   "source": [
    "train_masks = [[float(i > 0) for i in ii] for ii in train_tokens_ids]\n",
    "test_masks = [[float(i > 0) for i in ii] for ii in test_tokens_ids]"
   ]
  },
  {
   "cell_type": "code",
   "execution_count": 11,
   "id": "f00c75cf",
   "metadata": {},
   "outputs": [],
   "source": [
    "class BertBinaryClassifier(nn.Module):\n",
    "    def __init__(self, dropout=0.1):\n",
    "        super(BertBinaryClassifier, self).__init__()\n",
    "        self.bert = BertModel.from_pretrained('bert-base-chinese')\n",
    "        self.dropout = nn.Dropout(dropout)\n",
    "        self.linear = nn.Linear(768, 2)\n",
    "    \n",
    "    def forward(self, tokens, masks=None):\n",
    "        _, pooled_output = self.bert(tokens, attention_mask=masks, output_all_encoded_layers=False)\n",
    "        dropout_output = self.dropout(pooled_output)\n",
    "        linear_output = self.linear(dropout_output)\n",
    "        return F.log_softmax(linear_output)"
   ]
  },
  {
   "cell_type": "code",
   "execution_count": 12,
   "id": "5f89660e",
   "metadata": {},
   "outputs": [
    {
     "data": {
      "text/plain": [
       "device(type='cuda')"
      ]
     },
     "execution_count": 12,
     "metadata": {},
     "output_type": "execute_result"
    }
   ],
   "source": [
    "device = torch.device(\"cuda\" if torch.cuda.is_available() else \"cpu\")\n",
    "device"
   ]
  },
  {
   "cell_type": "code",
   "execution_count": 13,
   "id": "69748484",
   "metadata": {},
   "outputs": [],
   "source": [
    "BATCH_SIZE = 1\n",
    "EPOCHS = 40"
   ]
  },
  {
   "cell_type": "code",
   "execution_count": 14,
   "id": "6cf34575",
   "metadata": {},
   "outputs": [
    {
     "data": {
      "text/plain": [
       "'0.0M'"
      ]
     },
     "execution_count": 14,
     "metadata": {},
     "output_type": "execute_result"
    }
   ],
   "source": [
    "train_tokens_tensor = torch.tensor(train_tokens_ids)\n",
    "train_y_tensor = torch.tensor(train_y.reshape(-1, 1)).float()\n",
    "\n",
    "test_tokens_tensor = torch.tensor(test_tokens_ids)\n",
    "test_y_tensor = torch.tensor(test_y.reshape(-1, 1)).float()\n",
    "\n",
    "train_masks_tensor = torch.tensor(train_masks)\n",
    "test_masks_tensor = torch.tensor(test_masks)\n",
    "\n",
    "str(torch.cuda.memory_allocated(device)/1000000 ) + 'M'"
   ]
  },
  {
   "cell_type": "code",
   "execution_count": 15,
   "id": "0da05476",
   "metadata": {},
   "outputs": [],
   "source": [
    "train_dataset = TensorDataset(train_tokens_tensor, train_masks_tensor, train_y_tensor)\n",
    "train_sampler = RandomSampler(train_dataset)\n",
    "train_dataloader = DataLoader(train_dataset, sampler=train_sampler, batch_size=BATCH_SIZE)\n",
    "\n",
    "test_dataset = TensorDataset(test_tokens_tensor, test_masks_tensor, test_y_tensor)\n",
    "test_sampler = SequentialSampler(test_dataset)\n",
    "test_dataloader = DataLoader(test_dataset, sampler=test_sampler, batch_size=BATCH_SIZE)"
   ]
  },
  {
   "cell_type": "code",
   "execution_count": 16,
   "id": "3291016d",
   "metadata": {},
   "outputs": [],
   "source": [
    "bert_clf = BertBinaryClassifier()\n",
    "bert_clf = bert_clf.cuda()\n",
    "optimizer = Adam(bert_clf.parameters(), lr=3e-6)"
   ]
  },
  {
   "cell_type": "code",
   "execution_count": 17,
   "id": "c69df7d6",
   "metadata": {},
   "outputs": [],
   "source": [
    "import os \n",
    "os.environ['CUDA_LAUNCH_BLOCKING'] = '1'\n",
    "torch.cuda.empty_cache()"
   ]
  },
  {
   "cell_type": "code",
   "execution_count": null,
   "id": "86437902",
   "metadata": {},
   "outputs": [
    {
     "name": "stdout",
     "output_type": "stream",
     "text": [
      "Epoch:  1\n",
      "\r",
      "24666/30761.0 loss: 1.55690858907296 \n",
      "1666.100736M\n"
     ]
    }
   ],
   "source": [
    "epoch_loss = []\n",
    "for epoch_num in range(EPOCHS):\n",
    "    bert_clf.train()\n",
    "    train_loss = 0\n",
    "    for step_num, batch_data in enumerate(train_dataloader):\n",
    "        token_ids, masks, labels = tuple(t.to(device) for t in batch_data)\n",
    "        labels = torch.squeeze(labels,1)\n",
    "        labels = labels.to(torch.long)\n",
    "        print(str(torch.cuda.memory_allocated(device)/1000000 ) + 'M')\n",
    "        logits = bert_clf(token_ids, masks)\n",
    "\n",
    "        loss_func = nn.CrossEntropyLoss()\n",
    "\n",
    "        batch_loss = loss_func(logits, labels) #計算loss\n",
    "        train_loss += batch_loss.item()\n",
    "        \n",
    "        bert_clf.zero_grad() #清空前一次的gradient\n",
    "        batch_loss.backward() #根據loss進行back propagation，計算gradient\n",
    "        \n",
    "        clip_grad_norm_(parameters=bert_clf.parameters(), max_norm=1.0)\n",
    "        optimizer.step() #做gradient descent\n",
    "        \n",
    "        clear_output(wait=True)\n",
    "        print('Epoch: ', epoch_num + 1)\n",
    "        print(\"\\r\" + \"{0}/{1} loss: {2} \".format(step_num, len(train_data) / BATCH_SIZE, train_loss / (step_num + 1)))\n",
    "    epoch_loss.append(train_loss)"
   ]
  },
  {
   "cell_type": "code",
   "execution_count": null,
   "id": "6fc4f1c2",
   "metadata": {},
   "outputs": [],
   "source": [
    "bert_clf.eval()\n",
    "bert_predicted = []\n",
    "all_logits = []\n",
    "with torch.no_grad():\n",
    "    for step_num, batch_data in enumerate(test_dataloader):\n",
    "        token_ids, masks, labels = tuple(t.to(device) for t in batch_data)\n",
    "        labels = torch.squeeze(labels,1)\n",
    "        labels = labels.to(torch.long)\n",
    "        logits = bert_clf(token_ids, masks)\n",
    "#         loss_func = nn.BCELoss()\n",
    "        loss_func = nn.CrossEntropyLoss()\n",
    "        loss = loss_func(logits, labels)\n",
    "        numpy_logits = logits.cpu().detach().numpy()\n",
    "        print(\"\\r\" + \"{0}/{1}\".format(step_num, len(test_data) / BATCH_SIZE))\n",
    "        bert_predicted.append(list(numpy_logits[0, :]).index(max(list(numpy_logits[0, :]))))\n",
    "        all_logits += list(numpy_logits[:, 0])"
   ]
  },
  {
   "cell_type": "code",
   "execution_count": null,
   "id": "8750a9e7",
   "metadata": {},
   "outputs": [],
   "source": [
    "print(classification_report(test_y, bert_predicted))"
   ]
  },
  {
   "cell_type": "code",
   "execution_count": null,
   "id": "1fbd1099",
   "metadata": {},
   "outputs": [],
   "source": [
    "print(epoch_loss)"
   ]
  },
  {
   "cell_type": "code",
   "execution_count": null,
   "id": "cbaf8fdd",
   "metadata": {},
   "outputs": [],
   "source": []
  }
 ],
 "metadata": {
  "kernelspec": {
   "display_name": "Python 3 (ipykernel)",
   "language": "python",
   "name": "python3"
  },
  "language_info": {
   "codemirror_mode": {
    "name": "ipython",
    "version": 3
   },
   "file_extension": ".py",
   "mimetype": "text/x-python",
   "name": "python",
   "nbconvert_exporter": "python",
   "pygments_lexer": "ipython3",
   "version": "3.7.13"
  }
 },
 "nbformat": 4,
 "nbformat_minor": 5
}
