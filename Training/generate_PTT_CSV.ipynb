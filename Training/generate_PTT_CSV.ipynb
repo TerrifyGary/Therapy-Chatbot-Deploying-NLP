{
 "cells": [
  {
   "cell_type": "code",
   "execution_count": 6,
   "id": "1c6287a6",
   "metadata": {},
   "outputs": [
    {
     "data": {
      "text/plain": [
       "PosixPath('/Users/garychen/Documents/Therapy-Chatbot-Deploying-NLP/Training')"
      ]
     },
     "execution_count": 6,
     "metadata": {},
     "output_type": "execute_result"
    }
   ],
   "source": [
    "import csv\n",
    "from re import X\n",
    "import sqlite3\n",
    "import random as rn\n",
    "import pandas as pd\n",
    "import statistics\n",
    "import pathlib\n",
    "pathlib.Path().resolve() # CHECK ROUTE"
   ]
  },
  {
   "cell_type": "code",
   "execution_count": 7,
   "id": "187c728c",
   "metadata": {},
   "outputs": [],
   "source": [
    "cnx = sqlite3.connect('../Scraping/Data/PTT_Gossip.db')\n",
    "df = pd.read_sql_query(\"SELECT * FROM ArticlesWithReactions\", cnx)"
   ]
  },
  {
   "cell_type": "code",
   "execution_count": 12,
   "id": "c1480931",
   "metadata": {},
   "outputs": [
    {
     "data": {
      "text/html": [
       "<div>\n",
       "<style scoped>\n",
       "    .dataframe tbody tr th:only-of-type {\n",
       "        vertical-align: middle;\n",
       "    }\n",
       "\n",
       "    .dataframe tbody tr th {\n",
       "        vertical-align: top;\n",
       "    }\n",
       "\n",
       "    .dataframe thead th {\n",
       "        text-align: right;\n",
       "    }\n",
       "</style>\n",
       "<table border=\"1\" class=\"dataframe\">\n",
       "  <thead>\n",
       "    <tr style=\"text-align: right;\">\n",
       "      <th></th>\n",
       "      <th>date</th>\n",
       "      <th>author</th>\n",
       "      <th>category</th>\n",
       "      <th>title</th>\n",
       "      <th>content</th>\n",
       "      <th>comment_count</th>\n",
       "      <th>like_count</th>\n",
       "      <th>unlike_count</th>\n",
       "      <th>url</th>\n",
       "    </tr>\n",
       "  </thead>\n",
       "  <tbody>\n",
       "    <tr>\n",
       "      <th>0</th>\n",
       "      <td>Tue Dec  6 18:11:11 2022</td>\n",
       "      <td>d86249 (金羊)</td>\n",
       "      <td>Gossiping</td>\n",
       "      <td>真的有人因為教召被辭退的嗎?</td>\n",
       "      <td>國防部發新聞稿說明年2023會擴大辦理14天教召原本因為疫情或試辦只是一小部分人需要教召現在...</td>\n",
       "      <td>9</td>\n",
       "      <td>3</td>\n",
       "      <td>1</td>\n",
       "      <td>https://www.ptt.cc//bbs/Gossiping/M.1670321473...</td>\n",
       "    </tr>\n",
       "    <tr>\n",
       "      <th>1</th>\n",
       "      <td>Tue Dec  6 18:11:18 2022</td>\n",
       "      <td>DreamYeh (天使)</td>\n",
       "      <td>Gossiping</td>\n",
       "      <td>希特勒是靠演講當到德國總理的嗎?</td>\n",
       "      <td>※ 引述《kikiki37 (441)》之銘言：: 對於外國歷史不太熟: 希特勒早年家境不好...</td>\n",
       "      <td>20</td>\n",
       "      <td>5</td>\n",
       "      <td>3</td>\n",
       "      <td>https://www.ptt.cc//bbs/Gossiping/M.1670321481...</td>\n",
       "    </tr>\n",
       "    <tr>\n",
       "      <th>2</th>\n",
       "      <td>Tue Dec  6 18:12:38 2022</td>\n",
       "      <td>lotudi (母湯仁~阿肥震傳~)</td>\n",
       "      <td>Gossiping</td>\n",
       "      <td>心臟附近肌肉怪怪的有發炎的感覺?</td>\n",
       "      <td>心臟附近肌肉怪怪的有種發炎的感覺是心肌炎嗎？肥肥愛生氣也有點胖是不是芭比Q了？</td>\n",
       "      <td>19</td>\n",
       "      <td>6</td>\n",
       "      <td>2</td>\n",
       "      <td>https://www.ptt.cc//bbs/Gossiping/M.1670321560...</td>\n",
       "    </tr>\n",
       "    <tr>\n",
       "      <th>3</th>\n",
       "      <td>Tue Dec  6 18:12:41 2022</td>\n",
       "      <td>lovea (lovea)</td>\n",
       "      <td>Gossiping</td>\n",
       "      <td>防止墜樓和浮S的方法??</td>\n",
       "      <td>在全台每棟大樓周圍都設置氣墊在愛河沿岸三步一崗五步一哨嚴禁有人靠近岸邊，並設置河面24hrs...</td>\n",
       "      <td>17</td>\n",
       "      <td>7</td>\n",
       "      <td>4</td>\n",
       "      <td>https://www.ptt.cc//bbs/Gossiping/M.1670321565...</td>\n",
       "    </tr>\n",
       "    <tr>\n",
       "      <th>4</th>\n",
       "      <td>Tue Dec  6 18:13:03 2022</td>\n",
       "      <td>lauwei (lauwei)</td>\n",
       "      <td>Gossiping</td>\n",
       "      <td>內湖到新店再到信義區，順路嗎？</td>\n",
       "      <td>剛剛朋友氣死了原來他女友今天搭她主管的車回家女友說因為太冷捨不得他騎車去內湖接下班剛好主管住...</td>\n",
       "      <td>80</td>\n",
       "      <td>44</td>\n",
       "      <td>6</td>\n",
       "      <td>https://www.ptt.cc//bbs/Gossiping/M.1670321585...</td>\n",
       "    </tr>\n",
       "    <tr>\n",
       "      <th>...</th>\n",
       "      <td>...</td>\n",
       "      <td>...</td>\n",
       "      <td>...</td>\n",
       "      <td>...</td>\n",
       "      <td>...</td>\n",
       "      <td>...</td>\n",
       "      <td>...</td>\n",
       "      <td>...</td>\n",
       "      <td>...</td>\n",
       "    </tr>\n",
       "    <tr>\n",
       "      <th>69776</th>\n",
       "      <td>Wed Oct  5 15:37:14 2022</td>\n",
       "      <td>afiend0927 (飛輪爵士)</td>\n",
       "      <td>Gossiping</td>\n",
       "      <td>潛藏負債擴大至8,812億元 明年國保費率漲</td>\n",
       "      <td>※ 引述《Supergreen (Hi)》之銘言：: 1.媒體來源:: UDN: 2.記者署...</td>\n",
       "      <td>13</td>\n",
       "      <td>3</td>\n",
       "      <td>0</td>\n",
       "      <td>https://www.ptt.cc//bbs/Gossiping/M.1664955436...</td>\n",
       "    </tr>\n",
       "    <tr>\n",
       "      <th>69777</th>\n",
       "      <td>Wed Oct  5 15:38:00 2022</td>\n",
       "      <td>csghuuguh (ggininder)</td>\n",
       "      <td>Gossiping</td>\n",
       "      <td>白俄證實參與俄烏戰爭 強調為阻止衝突蔓</td>\n",
       "      <td>備註請放最後面 違者新聞文章刪除1.媒體來源:TVBS新聞網2.記者署名:記者 俞璟瑤 報導...</td>\n",
       "      <td>47</td>\n",
       "      <td>29</td>\n",
       "      <td>0</td>\n",
       "      <td>https://www.ptt.cc//bbs/Gossiping/M.1664955482...</td>\n",
       "    </tr>\n",
       "    <tr>\n",
       "      <th>69778</th>\n",
       "      <td>Wed Oct  5 15:38:23 2022</td>\n",
       "      <td>nifa (沒有人)</td>\n",
       "      <td>Gossiping</td>\n",
       "      <td>柯文哲嗆陳時中「去死」 綠委轟：為選舉</td>\n",
       "      <td>很好，那我們照民進党標準來聊聊2017/08/14表決到蔡英文滿意？ 台大教授：這跟威權時代...</td>\n",
       "      <td>15</td>\n",
       "      <td>10</td>\n",
       "      <td>2</td>\n",
       "      <td>https://www.ptt.cc//bbs/Gossiping/M.1664955508...</td>\n",
       "    </tr>\n",
       "    <tr>\n",
       "      <th>69779</th>\n",
       "      <td>Wed Oct  5 15:40:04 2022</td>\n",
       "      <td>qazStarStar (我不是派大星)</td>\n",
       "      <td>Gossiping</td>\n",
       "      <td>不把統神國動寫進教科書? 交大國動陣線</td>\n",
       "      <td>周杰倫吳寶春這種等級的大師都進入國高中教材了為什麼統神國動不行國動還有個外號是鼻地大師跟統神...</td>\n",
       "      <td>7</td>\n",
       "      <td>4</td>\n",
       "      <td>1</td>\n",
       "      <td>https://www.ptt.cc//bbs/Gossiping/M.1664955606...</td>\n",
       "    </tr>\n",
       "    <tr>\n",
       "      <th>69780</th>\n",
       "      <td>Wed Oct  5 15:42:32 2022</td>\n",
       "      <td>sted0101 (sted)</td>\n",
       "      <td>Gossiping</td>\n",
       "      <td>陳其邁「超前佈署」開罰市民未戴口罩 法官撤罰：中央未</td>\n",
       "      <td>2021/05/22 &lt;</td>\n",
       "      <td>9</td>\n",
       "      <td>4</td>\n",
       "      <td>0</td>\n",
       "      <td>https://www.ptt.cc//bbs/Gossiping/M.1664955755...</td>\n",
       "    </tr>\n",
       "  </tbody>\n",
       "</table>\n",
       "<p>69781 rows × 9 columns</p>\n",
       "</div>"
      ],
      "text/plain": [
       "                           date                 author   category  \\\n",
       "0      Tue Dec  6 18:11:11 2022            d86249 (金羊)  Gossiping   \n",
       "1      Tue Dec  6 18:11:18 2022          DreamYeh (天使)  Gossiping   \n",
       "2      Tue Dec  6 18:12:38 2022     lotudi (母湯仁~阿肥震傳~)  Gossiping   \n",
       "3      Tue Dec  6 18:12:41 2022          lovea (lovea)  Gossiping   \n",
       "4      Tue Dec  6 18:13:03 2022        lauwei (lauwei)  Gossiping   \n",
       "...                         ...                    ...        ...   \n",
       "69776  Wed Oct  5 15:37:14 2022      afiend0927 (飛輪爵士)  Gossiping   \n",
       "69777  Wed Oct  5 15:38:00 2022  csghuuguh (ggininder)  Gossiping   \n",
       "69778  Wed Oct  5 15:38:23 2022             nifa (沒有人)  Gossiping   \n",
       "69779  Wed Oct  5 15:40:04 2022   qazStarStar (我不是派大星)  Gossiping   \n",
       "69780  Wed Oct  5 15:42:32 2022        sted0101 (sted)  Gossiping   \n",
       "\n",
       "                            title  \\\n",
       "0                  真的有人因為教召被辭退的嗎?   \n",
       "1                希特勒是靠演講當到德國總理的嗎?   \n",
       "2                心臟附近肌肉怪怪的有發炎的感覺?   \n",
       "3                    防止墜樓和浮S的方法??   \n",
       "4                 內湖到新店再到信義區，順路嗎？   \n",
       "...                           ...   \n",
       "69776      潛藏負債擴大至8,812億元 明年國保費率漲   \n",
       "69777         白俄證實參與俄烏戰爭 強調為阻止衝突蔓   \n",
       "69778         柯文哲嗆陳時中「去死」 綠委轟：為選舉   \n",
       "69779         不把統神國動寫進教科書? 交大國動陣線   \n",
       "69780  陳其邁「超前佈署」開罰市民未戴口罩 法官撤罰：中央未   \n",
       "\n",
       "                                                 content comment_count  \\\n",
       "0      國防部發新聞稿說明年2023會擴大辦理14天教召原本因為疫情或試辦只是一小部分人需要教召現在...             9   \n",
       "1      ※ 引述《kikiki37 (441)》之銘言：: 對於外國歷史不太熟: 希特勒早年家境不好...            20   \n",
       "2                心臟附近肌肉怪怪的有種發炎的感覺是心肌炎嗎？肥肥愛生氣也有點胖是不是芭比Q了？            19   \n",
       "3      在全台每棟大樓周圍都設置氣墊在愛河沿岸三步一崗五步一哨嚴禁有人靠近岸邊，並設置河面24hrs...            17   \n",
       "4      剛剛朋友氣死了原來他女友今天搭她主管的車回家女友說因為太冷捨不得他騎車去內湖接下班剛好主管住...            80   \n",
       "...                                                  ...           ...   \n",
       "69776  ※ 引述《Supergreen (Hi)》之銘言：: 1.媒體來源:: UDN: 2.記者署...            13   \n",
       "69777  備註請放最後面 違者新聞文章刪除1.媒體來源:TVBS新聞網2.記者署名:記者 俞璟瑤 報導...            47   \n",
       "69778  很好，那我們照民進党標準來聊聊2017/08/14表決到蔡英文滿意？ 台大教授：這跟威權時代...            15   \n",
       "69779  周杰倫吳寶春這種等級的大師都進入國高中教材了為什麼統神國動不行國動還有個外號是鼻地大師跟統神...             7   \n",
       "69780                                       2021/05/22 <             9   \n",
       "\n",
       "      like_count unlike_count  \\\n",
       "0              3            1   \n",
       "1              5            3   \n",
       "2              6            2   \n",
       "3              7            4   \n",
       "4             44            6   \n",
       "...          ...          ...   \n",
       "69776          3            0   \n",
       "69777         29            0   \n",
       "69778         10            2   \n",
       "69779          4            1   \n",
       "69780          4            0   \n",
       "\n",
       "                                                     url  \n",
       "0      https://www.ptt.cc//bbs/Gossiping/M.1670321473...  \n",
       "1      https://www.ptt.cc//bbs/Gossiping/M.1670321481...  \n",
       "2      https://www.ptt.cc//bbs/Gossiping/M.1670321560...  \n",
       "3      https://www.ptt.cc//bbs/Gossiping/M.1670321565...  \n",
       "4      https://www.ptt.cc//bbs/Gossiping/M.1670321585...  \n",
       "...                                                  ...  \n",
       "69776  https://www.ptt.cc//bbs/Gossiping/M.1664955436...  \n",
       "69777  https://www.ptt.cc//bbs/Gossiping/M.1664955482...  \n",
       "69778  https://www.ptt.cc//bbs/Gossiping/M.1664955508...  \n",
       "69779  https://www.ptt.cc//bbs/Gossiping/M.1664955606...  \n",
       "69780  https://www.ptt.cc//bbs/Gossiping/M.1664955755...  \n",
       "\n",
       "[69781 rows x 9 columns]"
      ]
     },
     "execution_count": 12,
     "metadata": {},
     "output_type": "execute_result"
    }
   ],
   "source": [
    "# df['comment_count']\n",
    "df"
   ]
  },
  {
   "cell_type": "code",
   "execution_count": 14,
   "id": "90ab9f1d",
   "metadata": {},
   "outputs": [
    {
     "data": {
      "text/plain": [
       "52.44493486765739"
      ]
     },
     "execution_count": 14,
     "metadata": {},
     "output_type": "execute_result"
    }
   ],
   "source": [
    "target = df['comment_count']\n",
    "target_int = [eval(x) for x in target]\n",
    "avg_target = sum(target_int)/len(target_int)\n",
    "avg_target"
   ]
  },
  {
   "cell_type": "code",
   "execution_count": 15,
   "id": "7898ac81",
   "metadata": {},
   "outputs": [
    {
     "name": "stdout",
     "output_type": "stream",
     "text": [
      "17.18074129997124 52.44493486765739 191.09908827478975\n",
      "standard deviation : 116.37003987415673\n"
     ]
    }
   ],
   "source": [
    " for x in target_int:\n",
    "    if x < avg_target:\n",
    "        first_half.append(x)\n",
    "    else:\n",
    "        second_half.append(x)\n",
    "avg_first_half, avg_second_half = sum(first_half)/len(first_half), sum(second_half)/len(second_half)\n",
    "\n",
    "# -- 將標題分成四個label -- #\n",
    "zero_title, one_title, two_title, three_title = [], [], [], []\n",
    "print(avg_first_half, avg_target, avg_second_half)\n",
    "print(\"standard deviation : \"+str(statistics.stdev(target_int)))"
   ]
  },
  {
   "cell_type": "code",
   "execution_count": 17,
   "id": "1bc2779a",
   "metadata": {},
   "outputs": [
    {
     "name": "stdout",
     "output_type": "stream",
     "text": [
      "[33615, 22017, 9999, 4150]\n"
     ]
    }
   ],
   "source": [
    "temp = [0, 0, 0, 0]\n",
    "for x in target_int:\n",
    "    if x <= avg_first_half:\n",
    "        temp[0]+=1\n",
    "    elif x >avg_first_half and x <= avg_target:\n",
    "        temp[1]+=1\n",
    "    elif x > avg_target and x < avg_second_half:\n",
    "        temp[2]+=1\n",
    "    else:\n",
    "        temp[3]+=1\n",
    "print(temp)"
   ]
  },
  {
   "cell_type": "code",
   "execution_count": 23,
   "id": "dc14dcfe",
   "metadata": {},
   "outputs": [
    {
     "data": {
      "text/plain": [
       "'2021/05/22 <'"
      ]
     },
     "execution_count": 23,
     "metadata": {},
     "output_type": "execute_result"
    }
   ],
   "source": [
    "df['content'][69780]"
   ]
  },
  {
   "cell_type": "code",
   "execution_count": 25,
   "id": "bf8d3c87",
   "metadata": {},
   "outputs": [
    {
     "name": "stdout",
     "output_type": "stream",
     "text": [
      "[81349, 26889, 27174, 4150]\n"
     ]
    }
   ],
   "source": [
    "for x in range(len(target)):\n",
    "    if df['like_count'][x] > df['unlike_count'][x]:\n",
    "        temp[0]+=1\n",
    "    elif df['like_count'][x] == df['unlike_count'][x]:\n",
    "        temp[1]+=1\n",
    "    elif df['like_count'][x] < df['unlike_count'][x]:\n",
    "        temp[2]+=1\n",
    "print(temp)"
   ]
  },
  {
   "cell_type": "code",
   "execution_count": 26,
   "id": "5c827781",
   "metadata": {},
   "outputs": [
    {
     "name": "stdout",
     "output_type": "stream",
     "text": [
      "金門、馬祖人看到海峽中線新聞會怎麼想?\n"
     ]
    }
   ],
   "source": [
    "print(titles[10])"
   ]
  },
  {
   "cell_type": "code",
   "execution_count": null,
   "id": "54b3eb67",
   "metadata": {},
   "outputs": [],
   "source": []
  }
 ],
 "metadata": {
  "kernelspec": {
   "display_name": "Python 3 (ipykernel)",
   "language": "python",
   "name": "python3"
  },
  "language_info": {
   "codemirror_mode": {
    "name": "ipython",
    "version": 3
   },
   "file_extension": ".py",
   "mimetype": "text/x-python",
   "name": "python",
   "nbconvert_exporter": "python",
   "pygments_lexer": "ipython3",
   "version": "3.7.13"
  }
 },
 "nbformat": 4,
 "nbformat_minor": 5
}
