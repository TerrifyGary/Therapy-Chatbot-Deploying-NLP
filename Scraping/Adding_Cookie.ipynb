{
 "cells": [
  {
   "cell_type": "code",
   "execution_count": 1,
   "id": "53a52c87",
   "metadata": {},
   "outputs": [
    {
     "data": {
      "text/plain": [
       "True"
      ]
     },
     "execution_count": 1,
     "metadata": {},
     "output_type": "execute_result"
    }
   ],
   "source": [
    "import os.path\n",
    "path_to_file = './Data/labelTitle.db'\n",
    "os.path.exists(path_to_file)"
   ]
  },
  {
   "cell_type": "code",
   "execution_count": null,
   "id": "0faeaf61",
   "metadata": {},
   "outputs": [],
   "source": [
    "import cfscrape\n",
    "from fake_useragent import UserAgent\n",
    "ua = UserAgent()\n",
    "\n",
    "s = cfscrape.create_scraper()\n",
    "\n",
    "url = \"https://www.dcard.tw/service/api/v2/forums/mood/posts?popular=true&limit=99\"\n",
    "k = s.post(url, headers = {\"useragent\": f\"{ua.random}\"})\n",
    "print(k)"
   ]
  },
  {
   "cell_type": "code",
   "execution_count": null,
   "id": "a02782d6",
   "metadata": {},
   "outputs": [],
   "source": [
    "import cloudscraper\n",
    "from bs4 import BeautifulSoup\n",
    "\n",
    "scraper = cloudscraper.create_scraper(browser={'browser': 'firefox','platform': 'windows','mobile': False})\n",
    "\n",
    "html = scraper.get(url).content\n",
    "\n",
    "soup = BeautifulSoup(html, 'html.parser')\n",
    "\n",
    "print(soup)"
   ]
  },
  {
   "cell_type": "code",
   "execution_count": null,
   "id": "73327354",
   "metadata": {},
   "outputs": [],
   "source": [
    "from selenium import webdriver\n",
    "from selenium.webdriver.common.by import By\n",
    "from selenium.webdriver.chrome.service import Service as ChromeService\n",
    "from webdriver_manager.chrome import ChromeDriverManager\n",
    "\n",
    "\n",
    "def test_eight_components():\n",
    "    driver = webdriver.Chrome(service=ChromeService(executable_path=ChromeDriverManager().install()))\n",
    "\n",
    "    driver.get(\"https://www.selenium.dev/selenium/web/web-form.html\")\n",
    "\n",
    "    title = driver.title\n",
    "    assert title == \"Web form\"\n",
    "\n",
    "    driver.implicitly_wait(0.5)\n",
    "\n",
    "    text_box = driver.find_element(by=By.NAME, value=\"my-text\")\n",
    "    submit_button = driver.find_element(by=By.CSS_SELECTOR, value=\"button\")\n",
    "\n",
    "    text_box.send_keys(\"Selenium\")\n",
    "    submit_button.click()\n",
    "\n",
    "    message = driver.find_element(by=By.ID, value=\"message\")\n",
    "    value = message.text\n",
    "    assert value == \"Received!\"\n",
    "\n",
    "    driver.quit()\n"
   ]
  },
  {
   "cell_type": "code",
   "execution_count": null,
   "id": "458b554f",
   "metadata": {},
   "outputs": [],
   "source": []
  }
 ],
 "metadata": {
  "kernelspec": {
   "display_name": "Python 3 (ipykernel)",
   "language": "python",
   "name": "python3"
  },
  "language_info": {
   "codemirror_mode": {
    "name": "ipython",
    "version": 3
   },
   "file_extension": ".py",
   "mimetype": "text/x-python",
   "name": "python",
   "nbconvert_exporter": "python",
   "pygments_lexer": "ipython3",
   "version": "3.7.13"
  }
 },
 "nbformat": 4,
 "nbformat_minor": 5
}
