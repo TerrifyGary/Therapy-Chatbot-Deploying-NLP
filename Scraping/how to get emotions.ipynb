{
 "cells": [
  {
   "cell_type": "code",
   "execution_count": 1,
   "id": "cfd71b14",
   "metadata": {},
   "outputs": [],
   "source": [
    "from bs4 import BeautifulSoup\n",
    "# from fake_useragent import UserAgent\n",
    "import requests\n",
    "# from selenium import webdriver\n",
    "# from selenium.webdriver.common.keys import Keys\n",
    "import time\n",
    "import random\n",
    "import json\n",
    "import sqlite3"
   ]
  },
  {
   "cell_type": "code",
   "execution_count": 2,
   "id": "783ec6f0",
   "metadata": {},
   "outputs": [
    {
     "name": "stdout",
     "output_type": "stream",
     "text": [
      "403\n"
     ]
    }
   ],
   "source": [
    "url = \"https://www.dcard.tw/service/api/v2/posts/239238158\"\n",
    "\n",
    "url_whole_data = \"https://www.dcard.tw/service/api/v2/forums/relationship/posts?popular=true&limit=99\"\n",
    "\n",
    "response = requests.get(url)\n",
    "print(response.status_code)"
   ]
  },
  {
   "cell_type": "code",
   "execution_count": 3,
   "id": "5ca14aa2",
   "metadata": {},
   "outputs": [
    {
     "name": "stdout",
     "output_type": "stream",
     "text": [
      "<class 'str'>\n",
      "{\"id\":239238158,\"title\":\"恭喜自己解鎖綠帽成就\",\"excerpt\":\"交往快6年的前男友約兩週前向我坦承他出軌，表示自己很後悔，並主動提起要給我賴賬號密碼+定位，讓我隨時可以掌握他的動向，藉此重新建立安全感。1⃣️出軌原因，他說自己因為家務事壓力大，想喝酒買醉，因此找在傳說\",\"anonymousSchool\":true,\"anonymousDepartment\":true,\"pinned\":false,\"forumId\":\"42851318-b9e2-4a75-8a05-9fe180becefe\",\"replyId\":null,\"createdAt\":\"2022-06-21T11:39:17.167Z\",\"updatedAt\":\"2022-06-22T11:27:23.516Z\",\"commentCount\":115,\"likeCount\":1366,\"collectionCount\":332,\"tags\":[\"HIDE_THUMBNAIL\"],\"topics\":[\"綠帽\",\"劈腿\"],\"supportedReactions\":null,\"withNickname\":false,\"reportReason\":\"\",\"hiddenByAuthor\":false,\"meta\":{\"layout\":\"classic\"},\"forumName\":\"感情\",\"forumAlias\":\"relationship\",\"nsfw\":false,\"replyTitle\":null,\"gender\":\"F\",\"personaSubscriptable\":true,\"content\":\"交往快6年的前男友約兩週前向我坦承他出軌，表示自己很後悔，並主動提起要給我賴賬號密碼+定位，讓我隨時可以掌握他的動向，藉此重新建立安全感。\\n\\n1⃣️出軌原因\\n他說自己因為家務事壓力大，想喝酒買醉，因此找在傳說遇到+靠近工作地區的女網友，想聊天喝酒，他向我坦承時還特別說：「是女網友主動的」、「會找她喝酒是因為賴有放跟你的合照，對方知道應該不會發生什麼事」、「當下喝很醉，沒有機會拒絕」\\n2⃣️專找弱點求挽回\\n前男友真的很聰明，知道我們遠距離，尤其是他開始工作後，距離變得更遙遠，知道我想趕快在同個縣市生活，也知道我很喜歡迪士尼，因此挽回時不斷的說「我給你承諾，明年1月結婚」、「我原本想在迪士尼跟你求婚」、「我真的很後悔，那個女生比你醜，事後我覺得好噁心」\\n\\n說真的聽到當下我很混亂、很糾結，畢竟那麼長的感情，也經歷過許多美好，所以只能逼自己理性分析。第一，有壓力買醉沒問題，找網友沒問題，偏偏去找個女網友？第二，當我傻子不知道喝醉硬不起來喔，你還夠硬到可以做欸；第三，後悔個頭，去找人家的時候你怎麼不嫌人家醜就轉身，做了才在那邊覺得噁心，而且還無套；第四，說要給賴給定位，也就說說而已，當我不知道你在留後路？\\n總之，我放生了😉各位女生自己小心\\n這位渣男身高180，外貌不差，很能把自己包裝成乖寶寶，也很能掌握女生的弱點\\n最後，謝謝陪伴我、幫助我清醒的兩位摯友，以及wootalk上遇到的那位網友（雖然不知道你是誰，一進去我就批哩啪啦說自己遇到感情問題，總之你的激將法成功打醒我了🤣），謝謝你們幫我保持理智遠離渣男❤️也希望遇到相似問題的男男女女們，在看完文章後能有勇氣和渣男渣女說不見\",\"reactions\":[{\"id\":\"286f599c-f86a-4932-82f0-f5a06f1eca03\",\"count\":1293},{\"id\":\"e8e6bc5d-41b0-4129-b134-97507523d7ff\",\"count\":42},{\"id\":\"4b018f48-e184-445f-adf1-fc8e04ba09b9\",\"count\":16},{\"id\":\"514c2569-fd53-4d9d-a415-bf0f88e7329f\",\"count\":6},{\"id\":\"aa0d425f-d530-4478-9a77-fe3aedc79eea\",\"count\":6},{\"id\":\"011ead16-9b83-4729-9fde-c588920c6c2d\",\"count\":3}],\"hidden\":false,\"customStyle\":null,\"isSuspiciousAccount\":false,\"isModerator\":false,\"layout\":\"classic\",\"spoilerAlert\":false,\"withImages\":false,\"withVideos\":false,\"media\":[],\"reportReasonText\":\"\",\"isSelectedPost\":false,\"unsafe\":false,\"enablePrivateMessage\":false,\"enableNestedComment\":true,\"totalCommentCount\":211,\"mediaMeta\":[],\"edited\":false,\"isBlocker\":false,\"isBlocked\":false,\"excerptComments\":[],\"postAvatar\":\"\",\"activityAvatar\":\"\",\"verifiedBadge\":false,\"memberType\":\"\"}\n"
     ]
    }
   ],
   "source": [
    "import cloudscraper\n",
    "\n",
    "# isTarget = False\n",
    "# while (isTarget==False):    \n",
    "scraper = cloudscraper.CloudScraper()  # CloudScraper inherits from requests.Session\n",
    "result = scraper.get(url).text\n",
    "#     if result[0] == '{':\n",
    "#         isTarget = True\n",
    "\n",
    "print(type(result))\n",
    "print(result)\n",
    "\n",
    "\n",
    "# print(data)"
   ]
  },
  {
   "cell_type": "code",
   "execution_count": 4,
   "id": "264239ef",
   "metadata": {},
   "outputs": [
    {
     "name": "stdout",
     "output_type": "stream",
     "text": [
      "<class 'str'>\n",
      "['id:239238158', 'title:恭喜自己解鎖綠帽成就', 'excerpt:交往快6年的前男友約兩週前向我坦承他出軌，表示自己很後悔，並主動提起要給我賴賬號密碼+定位，讓我隨時可以掌握他的動向，藉此重新建立安全感。1⃣️出軌原因，他說自己因為家務事壓力大，想喝酒買醉，因此找在傳說', 'anonymousSchool:true', 'anonymousDepartment:true', 'pinned:false', 'forumId:42851318-b9e2-4a75-8a05-9fe180becefe', 'replyId:null', 'createdAt:2022-06-21T11:39:17.167Z', 'updatedAt:2022-06-22T11:27:23.516Z', 'commentCount:115', 'likeCount:1366', 'collectionCount:332', 'tags:[HIDE_THUMBNAIL]', 'topics:[綠帽', '劈腿]', 'supportedReactions:null', 'withNickname:false', 'reportReason:', 'hiddenByAuthor:false', 'meta:layout:classic', 'forumName:感情', 'forumAlias:relationship', 'nsfw:false', 'replyTitle:null', 'gender:F', 'personaSubscriptable:true', 'content:交往快6年的前男友約兩週前向我坦承他出軌，表示自己很後悔，並主動提起要給我賴賬號密碼+定位，讓我隨時可以掌握他的動向，藉此重新建立安全感。\\\\n\\\\n1⃣️出軌原因\\\\n他說自己因為家務事壓力大，想喝酒買醉，因此找在傳說遇到+靠近工作地區的女網友，想聊天喝酒，他向我坦承時還特別說：「是女網友主動的」、「會找她喝酒是因為賴有放跟你的合照，對方知道應該不會發生什麼事」、「當下喝很醉，沒有機會拒絕」\\\\n2⃣️專找弱點求挽回\\\\n前男友真的很聰明，知道我們遠距離，尤其是他開始工作後，距離變得更遙遠，知道我想趕快在同個縣市生活，也知道我很喜歡迪士尼，因此挽回時不斷的說「我給你承諾，明年1月結婚」、「我原本想在迪士尼跟你求婚」、「我真的很後悔，那個女生比你醜，事後我覺得好噁心」\\\\n\\\\n說真的聽到當下我很混亂、很糾結，畢竟那麼長的感情，也經歷過許多美好，所以只能逼自己理性分析。第一，有壓力買醉沒問題，找網友沒問題，偏偏去找個女網友？第二，當我傻子不知道喝醉硬不起來喔，你還夠硬到可以做欸；第三，後悔個頭，去找人家的時候你怎麼不嫌人家醜就轉身，做了才在那邊覺得噁心，而且還無套；第四，說要給賴給定位，也就說說而已，當我不知道你在留後路？\\\\n總之，我放生了😉各位女生自己小心\\\\n這位渣男身高180，外貌不差，很能把自己包裝成乖寶寶，也很能掌握女生的弱點\\\\n最後，謝謝陪伴我、幫助我清醒的兩位摯友，以及wootalk上遇到的那位網友（雖然不知道你是誰，一進去我就批哩啪啦說自己遇到感情問題，總之你的激將法成功打醒我了🤣），謝謝你們幫我保持理智遠離渣男❤️也希望遇到相似問題的男男女女們，在看完文章後能有勇氣和渣男渣女說不見', 'reactions:[id:286f599c-f86a-4932-82f0-f5a06f1eca03', 'count:1293', 'id:e8e6bc5d-41b0-4129-b134-97507523d7ff', 'count:42', 'id:4b018f48-e184-445f-adf1-fc8e04ba09b9', 'count:16', 'id:514c2569-fd53-4d9d-a415-bf0f88e7329f', 'count:6', 'id:aa0d425f-d530-4478-9a77-fe3aedc79eea', 'count:6', 'id:011ead16-9b83-4729-9fde-c588920c6c2d', 'count:3]', 'hidden:false', 'customStyle:null', 'isSuspiciousAccount:false', 'isModerator:false', 'layout:classic', 'spoilerAlert:false', 'withImages:false', 'withVideos:false', 'media:[]', 'reportReasonText:', 'isSelectedPost:false', 'unsafe:false', 'enablePrivateMessage:false', 'enableNestedComment:true', 'totalCommentCount:211', 'mediaMeta:[]', 'edited:false', 'isBlocker:false', 'isBlocked:false', 'excerptComments:[]', 'postAvatar:', 'activityAvatar:', 'verifiedBadge:false', 'memberType:']\n"
     ]
    }
   ],
   "source": [
    "if result[0]=='{':\n",
    "    print(type(result)) \n",
    "    data = result.replace('{','')\n",
    "    data = data.replace('}','')\n",
    "    data = data.replace('\"','')\n",
    "    output = data.split(',')\n",
    "    print(output)\n",
    "else:\n",
    "    print('Did Not Get The Result.')\n",
    "# data = data.split(',')"
   ]
  },
  {
   "cell_type": "code",
   "execution_count": 5,
   "id": "90390eed",
   "metadata": {},
   "outputs": [
    {
     "name": "stdout",
     "output_type": "stream",
     "text": [
      "count:6\n"
     ]
    }
   ],
   "source": [
    "emo = output.index(\"id:aa0d425f-d530-4478-9a77-fe3aedc79eea\")\n",
    "print(output[emo+1])"
   ]
  },
  {
   "cell_type": "code",
   "execution_count": 6,
   "id": "514da449",
   "metadata": {},
   "outputs": [
    {
     "data": {
      "text/plain": [
       "['count:1293', 'count:42', 'count:16', 'count:6', 'count:6', 'count:3]']"
      ]
     },
     "execution_count": 6,
     "metadata": {},
     "output_type": "execute_result"
    }
   ],
   "source": [
    "labelHeart = output.index(\"reactions:[id:286f599c-f86a-4932-82f0-f5a06f1eca03\")\n",
    "labelLaugh = output.index(\"id:e8e6bc5d-41b0-4129-b134-97507523d7ff\")\n",
    "labelShock = output.index(\"id:4b018f48-e184-445f-adf1-fc8e04ba09b9\")\n",
    "labelCry = output.index(\"id:514c2569-fd53-4d9d-a415-bf0f88e7329f\")\n",
    "labelMad = output.index(\"id:aa0d425f-d530-4478-9a77-fe3aedc79eea\")\n",
    "labelAdmired = output.index(\"id:011ead16-9b83-4729-9fde-c588920c6c2d\")\n",
    "mood = [output[labelHeart+1], output[labelLaugh+1], output[labelShock+1], output[labelCry+1], output[labelMad+1], output[labelAdmired+1]]\n",
    "mood"
   ]
  },
  {
   "cell_type": "code",
   "execution_count": 7,
   "id": "2fbd0eb7",
   "metadata": {},
   "outputs": [
    {
     "name": "stdout",
     "output_type": "stream",
     "text": [
      "True\n",
      "[1293, 42, 16, 6, 6, 3]\n"
     ]
    }
   ],
   "source": [
    "x = '8'\n",
    "print(x.isdigit())\n",
    "def convertDigit(words):\n",
    "    temp = \"\"\n",
    "    for c in words:\n",
    "        if c.isdigit() == True:\n",
    "            temp+=c\n",
    "    temp = int(temp)\n",
    "    return temp\n",
    "\n",
    "numbers = []\n",
    "for x in mood:\n",
    "    numbers.append(convertDigit(x))\n",
    "print(numbers)"
   ]
  },
  {
   "cell_type": "code",
   "execution_count": 8,
   "id": "7b700946",
   "metadata": {},
   "outputs": [
    {
     "name": "stdout",
     "output_type": "stream",
     "text": [
      "https://www.dcard.tw/service/api/v2/posts/238645500\n",
      "labelHeart Error\n",
      "labelShock Error\n",
      "labelAdmired Error\n"
     ]
    }
   ],
   "source": [
    "from getEmotion import getEmotions\n",
    "result = getEmotions('238645500')"
   ]
  },
  {
   "cell_type": "code",
   "execution_count": 9,
   "id": "b39444b1",
   "metadata": {},
   "outputs": [],
   "source": [
    "from bs4 import BeautifulSoup\n",
    "import cloudscraper"
   ]
  },
  {
   "cell_type": "code",
   "execution_count": null,
   "id": "f98c2558",
   "metadata": {},
   "outputs": [],
   "source": [
    "scraper = cloudscraper.create_scraper(delay=10, browser='chrome') "
   ]
  },
  {
   "cell_type": "code",
   "execution_count": null,
   "id": "788f7c71",
   "metadata": {},
   "outputs": [],
   "source": [
    "info = scraper.get(url).text\n",
    "soup = BeautifulSoup(info, \"html.parser\")\n",
    "for data in soup:\n",
    "    print(data.get_text())"
   ]
  },
  {
   "cell_type": "code",
   "execution_count": null,
   "id": "c3156852",
   "metadata": {},
   "outputs": [
    {
     "name": "stderr",
     "output_type": "stream",
     "text": [
      "Process Process-1:\n",
      "Traceback (most recent call last):\n",
      "  File \"/usr/local/anaconda3/envs/Awesome/lib/python3.7/multiprocessing/process.py\", line 297, in _bootstrap\n",
      "    self.run()\n",
      "  File \"/usr/local/anaconda3/envs/Awesome/lib/python3.7/multiprocessing/process.py\", line 99, in run\n",
      "    self._target(*self._args, **self._kwargs)\n",
      "  File \"/usr/local/anaconda3/envs/Awesome/lib/python3.7/site-packages/undetected_chromedriver/dprocess.py\", line 59, in _start_detached\n",
      "    p = Popen([executable, *args], stdin=PIPE, stdout=PIPE, stderr=PIPE, **kwargs)\n",
      "  File \"/usr/local/anaconda3/envs/Awesome/lib/python3.7/subprocess.py\", line 800, in __init__\n",
      "    restore_signals, start_new_session)\n",
      "  File \"/usr/local/anaconda3/envs/Awesome/lib/python3.7/subprocess.py\", line 1465, in _execute_child\n",
      "    executable = os.fsencode(executable)\n",
      "  File \"/usr/local/anaconda3/envs/Awesome/lib/python3.7/os.py\", line 812, in fsencode\n",
      "    filename = fspath(filename)  # Does type-checking of `filename`.\n",
      "TypeError: expected str, bytes or os.PathLike object, not NoneType\n"
     ]
    }
   ],
   "source": [
    "import undetected_chromedriver as uc\n",
    "driver = uc.Chrome()\n",
    "driver.get('https://www.dcard.tw/f')"
   ]
  },
  {
   "cell_type": "code",
   "execution_count": null,
   "id": "9e62af7e",
   "metadata": {},
   "outputs": [],
   "source": [
    "import undetected_chromedriver.v2 as uc\n",
    "driver = uc.Chrome()\n",
    "driver.get('https://nowsecure.nl')  # known url using cloudflare's \"under attack mode\""
   ]
  },
  {
   "cell_type": "code",
   "execution_count": null,
   "id": "7ce52cf6",
   "metadata": {},
   "outputs": [],
   "source": []
  },
  {
   "cell_type": "code",
   "execution_count": null,
   "id": "588284fb",
   "metadata": {},
   "outputs": [],
   "source": []
  }
 ],
 "metadata": {
  "kernelspec": {
   "display_name": "Python 3 (ipykernel)",
   "language": "python",
   "name": "python3"
  },
  "language_info": {
   "codemirror_mode": {
    "name": "ipython",
    "version": 3
   },
   "file_extension": ".py",
   "mimetype": "text/x-python",
   "name": "python",
   "nbconvert_exporter": "python",
   "pygments_lexer": "ipython3",
   "version": "3.7.13"
  }
 },
 "nbformat": 4,
 "nbformat_minor": 5
}
