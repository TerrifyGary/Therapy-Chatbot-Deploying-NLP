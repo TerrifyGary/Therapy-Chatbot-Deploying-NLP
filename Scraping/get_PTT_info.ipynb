{
 "cells": [
  {
   "cell_type": "code",
   "execution_count": 2,
   "id": "eb0b82cf",
   "metadata": {},
   "outputs": [],
   "source": [
    "from bs4 import BeautifulSoup\n",
    "import requests"
   ]
  },
  {
   "cell_type": "code",
   "execution_count": 3,
   "id": "e1d0fbef",
   "metadata": {},
   "outputs": [
    {
     "data": {
      "text/plain": [
       "([], [])"
      ]
     },
     "execution_count": 3,
     "metadata": {},
     "output_type": "execute_result"
    }
   ],
   "source": [
    "title = []\n",
    "title_url = []\n",
    "for x in range(1):\n",
    "    num = 39038-x\n",
    "    url = f'https://www.ptt.cc/bbs/Gossiping/index{num}.html'\n",
    "    const_url = 'https://www.ptt.cc/'\n",
    "    web = requests.get(url, cookies={'over18':'1'})\n",
    "    web.encoding='utf-8'      \n",
    "    soup = BeautifulSoup(web.text, \"html.parser\")\n",
    "    titles = soup.find_all('div', class_='title')\n",
    "    output = ''           \n",
    "    for i in titles:\n",
    "        if i.find('a') != None:\n",
    "            title.append(i.find('a').get_text())\n",
    "            title_url.append(const_url + i.find('a')['href'])\n",
    "title,title_url"
   ]
  },
  {
   "cell_type": "code",
   "execution_count": 4,
   "id": "374a2344",
   "metadata": {},
   "outputs": [],
   "source": [
    "title_url_exitst = []\n",
    "for url in title_url:\n",
    "    web = requests.get(url, cookies={'over18':'1'})\n",
    "    web.encoding='utf-8'       # 避免中文亂碼\n",
    "    soup = BeautifulSoup(web.text, \"html.parser\")\n",
    "    ERROR_MESSAGE = '404 page not found\\n'\n",
    "    output = soup.get_text()\n",
    "\n",
    "    if output == ERROR_MESSAGE:\n",
    "        title_url_exitst.append(0)\n",
    "    else:\n",
    "        title_url_exitst.append(1)"
   ]
  },
  {
   "cell_type": "code",
   "execution_count": 7,
   "id": "997d1e24",
   "metadata": {},
   "outputs": [
    {
     "name": "stdout",
     "output_type": "stream",
     "text": [
      "168 82 11\n",
      "losel () Gossiping [新聞] 好市多熱銷高山茶遭爆混境外茶 台灣茶葉 Wed Oct  5 19:10:09 2022\n",
      "媒體來源：聯合新聞網記者署名：張議晨完整新聞標題：好市多熱銷高山茶遭爆混境外茶 台灣茶葉比例僅10分之1完整新聞內文：2022-10-05 11:38 聯合報／ 記者張議晨／高雄即時報導台北市衛生局去年到好市多賣場抽驗茶葉，結果熱賣的「杉林溪高山烏龍茶」被驗出有「境外茶」成分，經檢警向上追緝，發現是南投縣許姓茶農將越南茶、台灣茶以10:1比例混充，雄檢偵查時，許姓茶農坦承是茶葉來源短缺，才會混摻境外茶，檢方考量他認罪，且銷毀境外茶業，處分緩起訴，並要求許男支付公庫70萬元。檢警調查，許男是南投縣知名製茶廠的負責人，下游經銷商「喬本德」與許男簽訂供貨契約後，以「杉林溪高山烏龍茶」包裝銷售給好市多賣場。去年4月間，因台灣茶葉來源短缺，許男擔心無法交貨給喬本德，私自以1530台斤的越南茶與150台斤的台灣茶葉以10:1比例混充，包裝後銷售至好市多賣場。去年9月23日，台北市衛生局人員到好市多抽驗茶葉，結果外包裝為「杉林溪高山烏龍茶」的茶葉，經農委會化驗後，判定為「境外茶」，一台斤裝的高山茶，內容物僅10分之1是台灣茶葉，以每台斤許男獲利72元計算，估算許男不法獲利約11萬元。後來銷售許男茶葉的喬本德，對許男提告詐欺取財、食安法。高雄地檢署偵辦時，許男坦承以境外茶混充台茶出售，檢方考量許男無前科，且犯案後坦承犯行，並配合衛生局銷毀越南茶葉，予以緩起訴處分，並要求許男支付公庫70萬元。完整新聞連結：https://udn.com/news/story/7321/6663363備註：\n"
     ]
    }
   ],
   "source": [
    "article_url = 'https://www.ptt.cc/bbs/Gossiping/M.1664968212.A.F84.html'\n",
    "web = requests.get(article_url, cookies={'over18':'1'})\n",
    "web.encoding='utf-8'       # 避免中文亂碼\n",
    "soup = BeautifulSoup(web.text, \"html.parser\")\n",
    "push = soup.find_all(\"div\",{\"class\": \"push\"})\n",
    "target_soup = soup.find_all(\"span\",{\"class\": \"article-meta-value\"})\n",
    "content_soup = soup.find_all(\"div\")\n",
    "\n",
    "x_text = []\n",
    "for x in content_soup:\n",
    "    x_text.append(x.text)\n",
    "\n",
    "content = x_text[5].split('--')[0]\n",
    "temp_content = content.split('\\n')[2:]\n",
    "content = ''\n",
    "for t_con in temp_content:\n",
    "    if t_con!='\\n':\n",
    "        content+=t_con\n",
    "\n",
    "temp = []\n",
    "\n",
    "for x in target_soup:\n",
    "    temp.append(x.text)\n",
    "\n",
    "author, category, title, date = temp\n",
    "\n",
    "comment_count = len(push)\n",
    "like = 0\n",
    "unlike = 0\n",
    "\n",
    "for x in push:\n",
    "    comment = str(x.text)\n",
    "    like_or_unlike = comment[0]\n",
    "    \n",
    "    if like_or_unlike == '推':\n",
    "        like +=1 \n",
    "    elif like_or_unlike == '噓':\n",
    "        unlike +=1\n",
    "\n",
    "print(comment_count,like,unlike)\n",
    "print(author, category, title, date)\n",
    "print(content)"
   ]
  },
  {
   "cell_type": "code",
   "execution_count": 6,
   "id": "eb88acea",
   "metadata": {},
   "outputs": [
    {
     "data": {
      "text/plain": [
       "'代好友po文協尋-影片中的受害者是好友的家人。我們想尋找11/1 (週一)當日中午行經「三重中興北街往幸福路」的駕駛車主與機車騎士，也請大家幫忙詢問沒有使用ptt的家人11/1當天中午是否有經過此路段，希望您能提供行車記錄器影片以利蒐證。若您有影片，請站內信我，謝謝。朋友的家人還在昏迷中，也希望大家能幫她祈福打氣，感恩。https://youtu.be/YPOWgYtzaww'"
      ]
     },
     "execution_count": 6,
     "metadata": {},
     "output_type": "execute_result"
    }
   ],
   "source": [
    "content"
   ]
  },
  {
   "cell_type": "code",
   "execution_count": null,
   "id": "6cb15bd4",
   "metadata": {},
   "outputs": [],
   "source": [
    " title.split('] ')[1]"
   ]
  },
  {
   "cell_type": "code",
   "execution_count": null,
   "id": "6a6339a5",
   "metadata": {},
   "outputs": [],
   "source": []
  }
 ],
 "metadata": {
  "kernelspec": {
   "display_name": "Python 3 (ipykernel)",
   "language": "python",
   "name": "python3"
  },
  "language_info": {
   "codemirror_mode": {
    "name": "ipython",
    "version": 3
   },
   "file_extension": ".py",
   "mimetype": "text/x-python",
   "name": "python",
   "nbconvert_exporter": "python",
   "pygments_lexer": "ipython3",
   "version": "3.7.13"
  }
 },
 "nbformat": 4,
 "nbformat_minor": 5
}
