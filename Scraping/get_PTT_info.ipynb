{
 "cells": [
  {
   "cell_type": "code",
   "execution_count": 1,
   "id": "eb0b82cf",
   "metadata": {},
   "outputs": [],
   "source": [
    "from bs4 import BeautifulSoup\n",
    "import requests"
   ]
  },
  {
   "cell_type": "code",
   "execution_count": 5,
   "id": "e1d0fbef",
   "metadata": {},
   "outputs": [
    {
     "data": {
      "text/plain": [
       "([], [])"
      ]
     },
     "execution_count": 5,
     "metadata": {},
     "output_type": "execute_result"
    }
   ],
   "source": [
    "title = []\n",
    "title_url = []\n",
    "for x in range(1):\n",
    "    num = 39038-x\n",
    "    url = f'https://www.ptt.cc/bbs/Gossiping/index{num}.html'\n",
    "    const_url = 'https://www.ptt.cc/'\n",
    "    web = requests.get(url, cookies={'over18':'1'})\n",
    "    web.encoding='utf-8'      \n",
    "    soup = BeautifulSoup(web.text, \"html.parser\")\n",
    "    titles = soup.find_all('div', class_='title')\n",
    "    output = ''           \n",
    "    for i in titles:\n",
    "        if i.find('a') != None:\n",
    "            title.append(i.find('a').get_text())\n",
    "            title_url.append(const_url + i.find('a')['href'])\n",
    "title,title_url"
   ]
  },
  {
   "cell_type": "code",
   "execution_count": null,
   "id": "374a2344",
   "metadata": {},
   "outputs": [],
   "source": [
    "title_url_exitst = []\n",
    "for url in title_url:\n",
    "    web = requests.get(url, cookies={'over18':'1'})\n",
    "    web.encoding='utf-8'       # 避免中文亂碼\n",
    "    soup = BeautifulSoup(web.text, \"html.parser\")\n",
    "    ERROR_MESSAGE = '404 page not found\\n'\n",
    "    output = soup.get_text()\n",
    "\n",
    "    if output == ERROR_MESSAGE:\n",
    "        title_url_exitst.append(0)\n",
    "    else:\n",
    "        title_url_exitst.append(1)"
   ]
  },
  {
   "cell_type": "code",
   "execution_count": 11,
   "id": "997d1e24",
   "metadata": {},
   "outputs": [
    {
     "name": "stdout",
     "output_type": "stream",
     "text": [
      "63 41 3\n",
      "holalynd (Determination.) Gossiping [協尋] 11/1 三重衝撞行人事故行車紀錄影片 Wed Nov  9 21:10:51 2022\n",
      "代好友po文協尋-影片中的受害者是好友的家人。我們想尋找11/1 (週一)當日中午行經「三重中興北街往幸福路」的駕駛車主與機車騎士，也請大家幫忙詢問沒有使用ptt的家人11/1當天中午是否有經過此路段，希望您能提供行車記錄器影片以利蒐證。若您有影片，請站內信我，謝謝。朋友的家人還在昏迷中，也希望大家能幫她祈福打氣，感恩。https://youtu.be/YPOWgYtzaww\n"
     ]
    }
   ],
   "source": [
    "article_url = 'https://www.ptt.cc/bbs/Gossiping/M.1667999455.A.AB5.html'\n",
    "web = requests.get(article_url, cookies={'over18':'1'})\n",
    "web.encoding='utf-8'       # 避免中文亂碼\n",
    "soup = BeautifulSoup(web.text, \"html.parser\")\n",
    "push = soup.find_all(\"div\",{\"class\": \"push\"})\n",
    "target_soup = soup.find_all(\"span\",{\"class\": \"article-meta-value\"})\n",
    "content_soup = soup.find_all(\"div\")\n",
    "\n",
    "x_text = []\n",
    "for x in content_soup:\n",
    "    x_text.append(x.text)\n",
    "\n",
    "content = x_text[5].split('--')[0]\n",
    "temp_content = content.split('\\n')[2:]\n",
    "content = ''\n",
    "for t_con in temp_content:\n",
    "    if t_con!='\\n':\n",
    "        content+=t_con\n",
    "\n",
    "temp = []\n",
    "\n",
    "for x in target_soup:\n",
    "    temp.append(x.text)\n",
    "\n",
    "author, category, title, date = temp\n",
    "\n",
    "comment_count = len(push)\n",
    "like = 0\n",
    "unlike = 0\n",
    "\n",
    "for x in push:\n",
    "    comment = str(x.text)\n",
    "    like_or_unlike = comment[0]\n",
    "    \n",
    "    if like_or_unlike == '推':\n",
    "        like +=1 \n",
    "    elif like_or_unlike == '噓':\n",
    "        unlike +=1\n",
    "\n",
    "print(comment_count,like,unlike)\n",
    "print(author, category, title, date)\n",
    "print(content)"
   ]
  },
  {
   "cell_type": "code",
   "execution_count": 9,
   "id": "eb88acea",
   "metadata": {},
   "outputs": [
    {
     "data": {
      "text/plain": [
       "['',\n",
       " '代好友po文協尋-',\n",
       " '',\n",
       " '影片中的受害者是好友的家人。',\n",
       " '我們想尋找11/1 (週一)當日中午行經「三重中興北街往幸福路」的駕駛車主與機車騎士，也請大家幫忙詢問沒有使用ptt的家人11/1當天中午是否有經過此路段，希望您能提供行車記錄器影片以利蒐證。若您有影片，請站內信我，謝謝。',\n",
       " '',\n",
       " '朋友的家人還在昏迷中，也希望大家能幫她祈福打氣，感恩。',\n",
       " '',\n",
       " 'https://youtu.be/YPOWgYtzaww',\n",
       " '',\n",
       " '']"
      ]
     },
     "execution_count": 9,
     "metadata": {},
     "output_type": "execute_result"
    }
   ],
   "source": []
  },
  {
   "cell_type": "code",
   "execution_count": null,
   "id": "6cb15bd4",
   "metadata": {},
   "outputs": [],
   "source": [
    " title.split('] ')[1]"
   ]
  },
  {
   "cell_type": "code",
   "execution_count": null,
   "id": "6a6339a5",
   "metadata": {},
   "outputs": [],
   "source": []
  }
 ],
 "metadata": {
  "kernelspec": {
   "display_name": "Python 3 (ipykernel)",
   "language": "python",
   "name": "python3"
  },
  "language_info": {
   "codemirror_mode": {
    "name": "ipython",
    "version": 3
   },
   "file_extension": ".py",
   "mimetype": "text/x-python",
   "name": "python",
   "nbconvert_exporter": "python",
   "pygments_lexer": "ipython3",
   "version": "3.7.13"
  }
 },
 "nbformat": 4,
 "nbformat_minor": 5
}
